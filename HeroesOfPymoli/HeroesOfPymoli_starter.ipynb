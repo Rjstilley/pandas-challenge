{
 "cells": [
  {
   "cell_type": "markdown",
   "metadata": {},
   "source": [
    "### Note\n",
    "* Instructions have been included for each segment. You do not have to follow them exactly, but they are included to help you think through the steps."
   ]
  },
  {
   "cell_type": "code",
   "execution_count": 33,
   "metadata": {},
   "outputs": [
    {
     "output_type": "execute_result",
     "data": {
      "text/plain": [
       "   Purchase ID             SN  Age Gender  Item ID  \\\n",
       "0            0        Lisim78   20   Male      108   \n",
       "1            1    Lisovynya38   40   Male      143   \n",
       "2            2     Ithergue48   24   Male       92   \n",
       "3            3  Chamassasya86   24   Male      100   \n",
       "4            4      Iskosia90   23   Male      131   \n",
       "\n",
       "                                   Item Name  Price  \n",
       "0  Extraction, Quickblade Of Trembling Hands   3.53  \n",
       "1                          Frenzied Scimitar   1.56  \n",
       "2                               Final Critic   4.88  \n",
       "3                                Blindscythe   3.27  \n",
       "4                                       Fury   1.44  "
      ],
      "text/html": "<div>\n<style scoped>\n    .dataframe tbody tr th:only-of-type {\n        vertical-align: middle;\n    }\n\n    .dataframe tbody tr th {\n        vertical-align: top;\n    }\n\n    .dataframe thead th {\n        text-align: right;\n    }\n</style>\n<table border=\"1\" class=\"dataframe\">\n  <thead>\n    <tr style=\"text-align: right;\">\n      <th></th>\n      <th>Purchase ID</th>\n      <th>SN</th>\n      <th>Age</th>\n      <th>Gender</th>\n      <th>Item ID</th>\n      <th>Item Name</th>\n      <th>Price</th>\n    </tr>\n  </thead>\n  <tbody>\n    <tr>\n      <th>0</th>\n      <td>0</td>\n      <td>Lisim78</td>\n      <td>20</td>\n      <td>Male</td>\n      <td>108</td>\n      <td>Extraction, Quickblade Of Trembling Hands</td>\n      <td>3.53</td>\n    </tr>\n    <tr>\n      <th>1</th>\n      <td>1</td>\n      <td>Lisovynya38</td>\n      <td>40</td>\n      <td>Male</td>\n      <td>143</td>\n      <td>Frenzied Scimitar</td>\n      <td>1.56</td>\n    </tr>\n    <tr>\n      <th>2</th>\n      <td>2</td>\n      <td>Ithergue48</td>\n      <td>24</td>\n      <td>Male</td>\n      <td>92</td>\n      <td>Final Critic</td>\n      <td>4.88</td>\n    </tr>\n    <tr>\n      <th>3</th>\n      <td>3</td>\n      <td>Chamassasya86</td>\n      <td>24</td>\n      <td>Male</td>\n      <td>100</td>\n      <td>Blindscythe</td>\n      <td>3.27</td>\n    </tr>\n    <tr>\n      <th>4</th>\n      <td>4</td>\n      <td>Iskosia90</td>\n      <td>23</td>\n      <td>Male</td>\n      <td>131</td>\n      <td>Fury</td>\n      <td>1.44</td>\n    </tr>\n  </tbody>\n</table>\n</div>"
     },
     "metadata": {},
     "execution_count": 33
    }
   ],
   "source": [
    "# Dependencies and Setup\n",
    "import pandas as pd\n",
    "import numpy as np\n",
    "\n",
    "# File to Load (Remember to Change These)\n",
    "file_to_load = \"Resources/purchase_data.csv\"\n",
    "\n",
    "# Read Purchasing File and store into Pandas data frame\n",
    "purchase_data = pd.read_csv(file_to_load)\n",
    "purchase_data.head()"
   ]
  },
  {
   "cell_type": "markdown",
   "metadata": {},
   "source": [
    "## Player Count"
   ]
  },
  {
   "cell_type": "code",
   "execution_count": 34,
   "metadata": {},
   "outputs": [
    {
     "output_type": "execute_result",
     "data": {
      "text/plain": [
       "  Total Players\n",
       "0           576"
      ],
      "text/html": "<div>\n<style scoped>\n    .dataframe tbody tr th:only-of-type {\n        vertical-align: middle;\n    }\n\n    .dataframe tbody tr th {\n        vertical-align: top;\n    }\n\n    .dataframe thead tr th {\n        text-align: left;\n    }\n</style>\n<table border=\"1\" class=\"dataframe\">\n  <thead>\n    <tr>\n      <th></th>\n      <th>Total Players</th>\n    </tr>\n  </thead>\n  <tbody>\n    <tr>\n      <th>0</th>\n      <td>576</td>\n    </tr>\n  </tbody>\n</table>\n</div>"
     },
     "metadata": {},
     "execution_count": 34
    }
   ],
   "source": [
    "TotalPlayerCount= purchase_data[\"SN\"].unique().size\n",
    "TotalPlayerCount_df=pd.DataFrame([[TotalPlayerCount]])\n",
    "TotalPlayerCount_df.columns=[['Total Players']]\n",
    "TotalPlayerCount_df.head()"
   ]
  },
  {
   "cell_type": "markdown",
   "metadata": {},
   "source": [
    "* Display the total number of players\n"
   ]
  },
  {
   "cell_type": "markdown",
   "metadata": {},
   "source": [
    "## Purchasing Analysis (Total)"
   ]
  },
  {
   "cell_type": "markdown",
   "metadata": {},
   "source": [
    "* Run basic calculations to obtain number of unique items, average price, etc.\n",
    "\n",
    "\n",
    "\n",
    "* Create a summary data frame to hold the results\n",
    "\n",
    "\n",
    "* Optional: give the displayed data cleaner formatting\n",
    "\n",
    "\n",
    "* Display the summary data frame\n"
   ]
  },
  {
   "cell_type": "code",
   "execution_count": 35,
   "metadata": {
    "scrolled": true
   },
   "outputs": [
    {
     "output_type": "execute_result",
     "data": {
      "text/plain": [
       "   Number of Unique Items Average Price  Number of Purchases Total Revenue\n",
       "0                     179         $3.05                  780     $2,379.77"
      ],
      "text/html": "<div>\n<style scoped>\n    .dataframe tbody tr th:only-of-type {\n        vertical-align: middle;\n    }\n\n    .dataframe tbody tr th {\n        vertical-align: top;\n    }\n\n    .dataframe thead th {\n        text-align: right;\n    }\n</style>\n<table border=\"1\" class=\"dataframe\">\n  <thead>\n    <tr style=\"text-align: right;\">\n      <th></th>\n      <th>Number of Unique Items</th>\n      <th>Average Price</th>\n      <th>Number of Purchases</th>\n      <th>Total Revenue</th>\n    </tr>\n  </thead>\n  <tbody>\n    <tr>\n      <th>0</th>\n      <td>179</td>\n      <td>$3.05</td>\n      <td>780</td>\n      <td>$2,379.77</td>\n    </tr>\n  </tbody>\n</table>\n</div>"
     },
     "metadata": {},
     "execution_count": 35
    }
   ],
   "source": [
    "average_price = purchase_data ['Price'].mean()\n",
    "unique_items = len(purchase_data['Item ID'].unique())\n",
    "revenue = purchase_data ['Price'].sum()\n",
    "purchases_num = purchase_data['Purchase ID'].count()\n",
    "summary_table = pd.DataFrame({'Number of Unique Items':[unique_items], 'Average Price': ['${:,.2f}'.format(average_price)],'Number of Purchases': [purchases_num],'Total Revenue': ['${:,.2f}'.format(revenue)]})\n",
    "summary_table\n"
   ]
  },
  {
   "cell_type": "markdown",
   "metadata": {},
   "source": [
    "## Gender Demographics"
   ]
  },
  {
   "cell_type": "markdown",
   "metadata": {},
   "source": [
    "* Percentage and Count of Male Players\n",
    "\n",
    "\n",
    "* Percentage and Count of Female Players\n",
    "\n",
    "\n",
    "* Percentage and Count of Other / Non-Disclosed\n",
    "\n",
    "\n"
   ]
  },
  {
   "cell_type": "code",
   "execution_count": 36,
   "metadata": {},
   "outputs": [
    {
     "output_type": "execute_result",
     "data": {
      "text/plain": [
       "                       Total Count Percentage of Players\n",
       "Gender                                                  \n",
       "Female                          81                14.06%\n",
       "Male                           484                84.03%\n",
       "Other / Non-Disclosed           11                 1.91%"
      ],
      "text/html": "<div>\n<style scoped>\n    .dataframe tbody tr th:only-of-type {\n        vertical-align: middle;\n    }\n\n    .dataframe tbody tr th {\n        vertical-align: top;\n    }\n\n    .dataframe thead th {\n        text-align: right;\n    }\n</style>\n<table border=\"1\" class=\"dataframe\">\n  <thead>\n    <tr style=\"text-align: right;\">\n      <th></th>\n      <th>Total Count</th>\n      <th>Percentage of Players</th>\n    </tr>\n    <tr>\n      <th>Gender</th>\n      <th></th>\n      <th></th>\n    </tr>\n  </thead>\n  <tbody>\n    <tr>\n      <th>Female</th>\n      <td>81</td>\n      <td>14.06%</td>\n    </tr>\n    <tr>\n      <th>Male</th>\n      <td>484</td>\n      <td>84.03%</td>\n    </tr>\n    <tr>\n      <th>Other / Non-Disclosed</th>\n      <td>11</td>\n      <td>1.91%</td>\n    </tr>\n  </tbody>\n</table>\n</div>"
     },
     "metadata": {},
     "execution_count": 36
    }
   ],
   "source": [
    "Gend_Demo = purchase_data.groupby (\"Gender\")\n",
    "Gend_Demo.first()\n",
    "Total_Cnt = Gend_Demo[\"SN\"].nunique()\n",
    "player_Perc = Total_Cnt / TotalPlayerCount *100\n",
    "Demo_Gender = pd.DataFrame({'Total Count':Total_Cnt,'Percentage of Players': player_Perc})\n",
    "Demo_Gender[\"Percentage of Players\"]=Demo_Gender[\"Percentage of Players\"].map('{:.2f}%'.format)\n",
    "\n",
    "Demo_Gender\n",
    "type (Demo_Gender)\n",
    "Demo_Gender"
   ]
  },
  {
   "cell_type": "markdown",
   "metadata": {},
   "source": [
    "\n",
    "## Purchasing Analysis (Gender)"
   ]
  },
  {
   "cell_type": "markdown",
   "metadata": {},
   "source": [
    "* Run basic calculations to obtain purchase count, avg. purchase price, avg. purchase total per person etc. by gender\n",
    "\n",
    "\n",
    "\n",
    "\n",
    "* Create a summary data frame to hold the results\n",
    "\n",
    "\n",
    "* Optional: give the displayed data cleaner formatting\n",
    "\n",
    "\n",
    "* Display the summary data frame"
   ]
  },
  {
   "cell_type": "code",
   "execution_count": 47,
   "metadata": {},
   "outputs": [
    {
     "output_type": "execute_result",
     "data": {
      "text/plain": [
       "                       Purchase Count Average Purchase Price  \\\n",
       "Gender                                                         \n",
       "Female                            113                  $3.20   \n",
       "Male                              652                  $3.02   \n",
       "Other / Non-Disclosed              15                  $3.35   \n",
       "\n",
       "                      Total Purchase Value Avg Total Purchase per Person  \n",
       "Gender                                                                    \n",
       "Female                             $361.94                         $4.47  \n",
       "Male                              $1967.64                         $4.07  \n",
       "Other / Non-Disclosed               $50.19                         $4.56  "
      ],
      "text/html": "<div>\n<style scoped>\n    .dataframe tbody tr th:only-of-type {\n        vertical-align: middle;\n    }\n\n    .dataframe tbody tr th {\n        vertical-align: top;\n    }\n\n    .dataframe thead th {\n        text-align: right;\n    }\n</style>\n<table border=\"1\" class=\"dataframe\">\n  <thead>\n    <tr style=\"text-align: right;\">\n      <th></th>\n      <th>Purchase Count</th>\n      <th>Average Purchase Price</th>\n      <th>Total Purchase Value</th>\n      <th>Avg Total Purchase per Person</th>\n    </tr>\n    <tr>\n      <th>Gender</th>\n      <th></th>\n      <th></th>\n      <th></th>\n      <th></th>\n    </tr>\n  </thead>\n  <tbody>\n    <tr>\n      <th>Female</th>\n      <td>113</td>\n      <td>$3.20</td>\n      <td>$361.94</td>\n      <td>$4.47</td>\n    </tr>\n    <tr>\n      <th>Male</th>\n      <td>652</td>\n      <td>$3.02</td>\n      <td>$1967.64</td>\n      <td>$4.07</td>\n    </tr>\n    <tr>\n      <th>Other / Non-Disclosed</th>\n      <td>15</td>\n      <td>$3.35</td>\n      <td>$50.19</td>\n      <td>$4.56</td>\n    </tr>\n  </tbody>\n</table>\n</div>"
     },
     "metadata": {},
     "execution_count": 47
    }
   ],
   "source": [
    "Purch_Cnt = Gend_Demo[\"Purchase ID\"].count()\n",
    "Gend_Demo.first()\n",
    "AVG_Purch = Gend_Demo[\"Price\"].mean()\n",
    "Total_Purch = Gend_Demo[\"Price\"].sum()\n",
    "Per_Person = Total_Purch / Total_Cnt\n",
    "Analysis = pd.DataFrame({'Purchase Count':Purch_Cnt,'Average Purchase Price':(AVG_Purch),\n",
    "'Total Purchase Value':Total_Purch,'Avg Total Purchase per Person':(Per_Person)})\n",
    "Analysis[\"Average Purchase Price\"]= Analysis[\"Average Purchase Price\"].map('${:.2f}'.format)\n",
    "Analysis[\"Total Purchase Value\"]= Analysis[\"Total Purchase Value\"].map('${:.2f}'.format)\n",
    "Analysis[\"Avg Total Purchase per Person\"]= Analysis[\"Avg Total Purchase per Person\"].map('${:.2f}'.format)\n",
    "Analysis"
   ]
  },
  {
   "cell_type": "markdown",
   "metadata": {},
   "source": [
    "## Age Demographics"
   ]
  },
  {
   "cell_type": "markdown",
   "metadata": {},
   "source": [
    "* Establish bins for ages\n",
    "\n",
    "\n",
    "* Categorize the existing players using the age bins. Hint: use pd.cut()\n",
    "\n",
    "\n",
    "* Calculate the numbers and percentages by age group\n",
    "\n",
    "\n",
    "* Create a summary data frame to hold the results\n",
    "\n",
    "\n",
    "* Optional: round the percentage column to two decimal points\n",
    "\n",
    "\n",
    "* Display Age Demographics Table\n"
   ]
  },
  {
   "cell_type": "code",
   "execution_count": 39,
   "metadata": {},
   "outputs": [
    {
     "output_type": "execute_result",
     "data": {
      "text/plain": [
       "      Percentage of Players  Total Count\n",
       "<10                   2.95%           17\n",
       "10-14                 3.82%           22\n",
       "15-19                18.58%          107\n",
       "20-24                44.79%          258\n",
       "25-29                13.37%           77\n",
       "30-34                 9.03%           52\n",
       "35-39                 5.38%           31\n",
       "40+                   1.22%            7"
      ],
      "text/html": "<div>\n<style scoped>\n    .dataframe tbody tr th:only-of-type {\n        vertical-align: middle;\n    }\n\n    .dataframe tbody tr th {\n        vertical-align: top;\n    }\n\n    .dataframe thead th {\n        text-align: right;\n    }\n</style>\n<table border=\"1\" class=\"dataframe\">\n  <thead>\n    <tr style=\"text-align: right;\">\n      <th></th>\n      <th>Percentage of Players</th>\n      <th>Total Count</th>\n    </tr>\n  </thead>\n  <tbody>\n    <tr>\n      <th>&lt;10</th>\n      <td>2.95%</td>\n      <td>17</td>\n    </tr>\n    <tr>\n      <th>10-14</th>\n      <td>3.82%</td>\n      <td>22</td>\n    </tr>\n    <tr>\n      <th>15-19</th>\n      <td>18.58%</td>\n      <td>107</td>\n    </tr>\n    <tr>\n      <th>20-24</th>\n      <td>44.79%</td>\n      <td>258</td>\n    </tr>\n    <tr>\n      <th>25-29</th>\n      <td>13.37%</td>\n      <td>77</td>\n    </tr>\n    <tr>\n      <th>30-34</th>\n      <td>9.03%</td>\n      <td>52</td>\n    </tr>\n    <tr>\n      <th>35-39</th>\n      <td>5.38%</td>\n      <td>31</td>\n    </tr>\n    <tr>\n      <th>40+</th>\n      <td>1.22%</td>\n      <td>7</td>\n    </tr>\n  </tbody>\n</table>\n</div>"
     },
     "metadata": {},
     "execution_count": 39
    }
   ],
   "source": [
    "Age_Bins = [0,9,14,19,24,29,34,39,41]\n",
    "Bin_Names = [\"<10\",\"10-14\",\"15-19\",\"20-24\",\"25-29\",\"30-34\",\"35-39\",\"40+\"]\n",
    "Players_Age = purchase_data.loc[:,[\"Age\",\"SN\"]]\n",
    "purchase_data[\"Age Group\"] = pd.cut(purchase_data[\"Age\"],Age_Bins, labels=Bin_Names)\n",
    "purchase_data[\"Bin_Columns\"] = pd.cut(purchase_data[\"Age\"],Age_Bins,labels = Bin_Names)\n",
    "purchase_data\n",
    "\n",
    "Age_Grp = purchase_data.groupby(\"Age Group\")\n",
    "Cnt_Age = Age_Grp[\"SN\"].nunique()\n",
    "Age_Perc = (Cnt_Age/TotalPlayerCount) * 100\n",
    "Age_Dem = pd.DataFrame({\"Percentage of Players\": Age_Perc, \"Total Count\": Cnt_Age})\n",
    "Age_Dem.index.name = None\n",
    "Age_Dem[\"Percentage of Players\"]= Age_Dem[\"Percentage of Players\"].map('{:.2f}%'.format)\n",
    "Age_Dem"
   ]
  },
  {
   "cell_type": "markdown",
   "metadata": {},
   "source": [
    "## Purchasing Analysis (Age)"
   ]
  },
  {
   "cell_type": "markdown",
   "metadata": {},
   "source": [
    "* Bin the purchase_data data frame by age\n",
    "\n",
    "\n",
    "* Run basic calculations to obtain purchase count, avg. purchase price, avg. purchase total per person etc. in the table below\n",
    "\n",
    "\n",
    "* Create a summary data frame to hold the results\n",
    "\n",
    "\n",
    "* Optional: give the displayed data cleaner formatting\n",
    "\n",
    "\n",
    "* Display the summary data frame"
   ]
  },
  {
   "cell_type": "code",
   "execution_count": 43,
   "metadata": {},
   "outputs": [
    {
     "output_type": "execute_result",
     "data": {
      "text/plain": [
       "       Purchase Count Average Purchase Price  Total Purchase Value  \\\n",
       "<10                23                  $3.35                 77.13   \n",
       "10-14              28                  $2.96                 82.78   \n",
       "15-19             136                  $3.04                412.89   \n",
       "20-24             365                  $3.05               1114.06   \n",
       "25-29             101                  $2.90                293.00   \n",
       "30-34              73                  $2.93                214.00   \n",
       "35-39              41                  $3.60                147.67   \n",
       "40+                 8                  $2.91                 23.25   \n",
       "\n",
       "       Average Purchase Total per Person  \n",
       "<10                             4.537059  \n",
       "10-14                           3.762727  \n",
       "15-19                           3.858785  \n",
       "20-24                           4.318062  \n",
       "25-29                           3.805195  \n",
       "30-34                           4.115385  \n",
       "35-39                           4.763548  \n",
       "40+                             3.321429  "
      ],
      "text/html": "<div>\n<style scoped>\n    .dataframe tbody tr th:only-of-type {\n        vertical-align: middle;\n    }\n\n    .dataframe tbody tr th {\n        vertical-align: top;\n    }\n\n    .dataframe thead th {\n        text-align: right;\n    }\n</style>\n<table border=\"1\" class=\"dataframe\">\n  <thead>\n    <tr style=\"text-align: right;\">\n      <th></th>\n      <th>Purchase Count</th>\n      <th>Average Purchase Price</th>\n      <th>Total Purchase Value</th>\n      <th>Average Purchase Total per Person</th>\n    </tr>\n  </thead>\n  <tbody>\n    <tr>\n      <th>&lt;10</th>\n      <td>23</td>\n      <td>$3.35</td>\n      <td>77.13</td>\n      <td>4.537059</td>\n    </tr>\n    <tr>\n      <th>10-14</th>\n      <td>28</td>\n      <td>$2.96</td>\n      <td>82.78</td>\n      <td>3.762727</td>\n    </tr>\n    <tr>\n      <th>15-19</th>\n      <td>136</td>\n      <td>$3.04</td>\n      <td>412.89</td>\n      <td>3.858785</td>\n    </tr>\n    <tr>\n      <th>20-24</th>\n      <td>365</td>\n      <td>$3.05</td>\n      <td>1114.06</td>\n      <td>4.318062</td>\n    </tr>\n    <tr>\n      <th>25-29</th>\n      <td>101</td>\n      <td>$2.90</td>\n      <td>293.00</td>\n      <td>3.805195</td>\n    </tr>\n    <tr>\n      <th>30-34</th>\n      <td>73</td>\n      <td>$2.93</td>\n      <td>214.00</td>\n      <td>4.115385</td>\n    </tr>\n    <tr>\n      <th>35-39</th>\n      <td>41</td>\n      <td>$3.60</td>\n      <td>147.67</td>\n      <td>4.763548</td>\n    </tr>\n    <tr>\n      <th>40+</th>\n      <td>8</td>\n      <td>$2.91</td>\n      <td>23.25</td>\n      <td>3.321429</td>\n    </tr>\n  </tbody>\n</table>\n</div>"
     },
     "metadata": {},
     "execution_count": 43
    }
   ],
   "source": [
    "Age_Bins = [0,9,14,19,24,29,34,39,41]\n",
    "Bin_Names = [\"<10\",\"10-14\",\"15-19\",\"20-24\",\"25-29\",\"30-34\",\"35-39\",\"40+\"]\n",
    "Players_Age = purchase_data.loc[:,[\"Age\",\"SN\"]]\n",
    "purchase_data[\"Age Group\"] = pd.cut(purchase_data[\"Age\"],Age_Bins, labels=Bin_Names)\n",
    "purchase_data[\"Bin_Columns\"] = pd.cut(purchase_data[\"Age\"],Age_Bins,labels = Bin_Names)\n",
    "\n",
    "TotalPurchValue = Age_Grp[\"Price\"].sum()\n",
    "AvgPurchPerAge = TotalPurchValue/Cnt_Age\n",
    "AvgPurchPriceAge = Age_Grp[\"Price\"].mean()\n",
    "PurchCountAge = Age_Grp[\"Purchase ID\"].count()\n",
    "Age_Graph = pd.DataFrame({\"Purchase Count\": PurchCountAge,\n",
    "                                 \"Average Purchase Price\": AvgPurchPriceAge,\n",
    "                                 \"Total Purchase Value\":TotalPurchValue,\n",
    "                                 \"Average Purchase Total per Person\": AvgPurchPerAge})\n",
    "Age_Graph.index.name = None\n",
    "Age_Graph.style.format({\"Average Purchase Price\":\"${:,.2f}\",\"Total Purchase Value\":\"${:,.2f}\",\"Average Purchase Total per Person\":\"${:,.2f}\"})\n",
    "Age_Graph[\"Average Purchase Price\"]= Age_Graph[\"Average Purchase Price\"].map('${:.2f}'.format)\n",
    "Age_Graph"
   ]
  },
  {
   "cell_type": "markdown",
   "metadata": {},
   "source": [
    "## Top Spenders"
   ]
  },
  {
   "cell_type": "markdown",
   "metadata": {},
   "source": [
    "* Run basic calculations to obtain the results in the table below\n",
    "\n",
    "\n",
    "* Create a summary data frame to hold the results\n",
    "\n",
    "\n",
    "* Sort the total purchase value column in descending order\n",
    "\n",
    "\n",
    "* Optional: give the displayed data cleaner formatting\n",
    "\n",
    "\n",
    "* Display a preview of the summary data frame\n",
    "\n"
   ]
  },
  {
   "cell_type": "code",
   "execution_count": 29,
   "metadata": {},
   "outputs": [
    {
     "output_type": "execute_result",
     "data": {
      "text/plain": [
       "<pandas.io.formats.style.Styler at 0x7fea089b4460>"
      ],
      "text/html": "<style  type=\"text/css\" >\n</style><table id=\"T_2a73de84_70ab_11eb_917a_1e29c010c188\" ><thead>    <tr>        <th class=\"blank level0\" ></th>        <th class=\"col_heading level0 col0\" >Purchase Count</th>        <th class=\"col_heading level0 col1\" >Average Purchase Price</th>        <th class=\"col_heading level0 col2\" >Total Purchase Value</th>    </tr>    <tr>        <th class=\"index_name level0\" >SN</th>        <th class=\"blank\" ></th>        <th class=\"blank\" ></th>        <th class=\"blank\" ></th>    </tr></thead><tbody>\n                <tr>\n                        <th id=\"T_2a73de84_70ab_11eb_917a_1e29c010c188level0_row0\" class=\"row_heading level0 row0\" >Lisosia93</th>\n                        <td id=\"T_2a73de84_70ab_11eb_917a_1e29c010c188row0_col0\" class=\"data row0 col0\" >5</td>\n                        <td id=\"T_2a73de84_70ab_11eb_917a_1e29c010c188row0_col1\" class=\"data row0 col1\" >$3.79</td>\n                        <td id=\"T_2a73de84_70ab_11eb_917a_1e29c010c188row0_col2\" class=\"data row0 col2\" >$18.96</td>\n            </tr>\n            <tr>\n                        <th id=\"T_2a73de84_70ab_11eb_917a_1e29c010c188level0_row1\" class=\"row_heading level0 row1\" >Idastidru52</th>\n                        <td id=\"T_2a73de84_70ab_11eb_917a_1e29c010c188row1_col0\" class=\"data row1 col0\" >4</td>\n                        <td id=\"T_2a73de84_70ab_11eb_917a_1e29c010c188row1_col1\" class=\"data row1 col1\" >$3.86</td>\n                        <td id=\"T_2a73de84_70ab_11eb_917a_1e29c010c188row1_col2\" class=\"data row1 col2\" >$15.45</td>\n            </tr>\n            <tr>\n                        <th id=\"T_2a73de84_70ab_11eb_917a_1e29c010c188level0_row2\" class=\"row_heading level0 row2\" >Chamjask73</th>\n                        <td id=\"T_2a73de84_70ab_11eb_917a_1e29c010c188row2_col0\" class=\"data row2 col0\" >3</td>\n                        <td id=\"T_2a73de84_70ab_11eb_917a_1e29c010c188row2_col1\" class=\"data row2 col1\" >$4.61</td>\n                        <td id=\"T_2a73de84_70ab_11eb_917a_1e29c010c188row2_col2\" class=\"data row2 col2\" >$13.83</td>\n            </tr>\n            <tr>\n                        <th id=\"T_2a73de84_70ab_11eb_917a_1e29c010c188level0_row3\" class=\"row_heading level0 row3\" >Iral74</th>\n                        <td id=\"T_2a73de84_70ab_11eb_917a_1e29c010c188row3_col0\" class=\"data row3 col0\" >4</td>\n                        <td id=\"T_2a73de84_70ab_11eb_917a_1e29c010c188row3_col1\" class=\"data row3 col1\" >$3.40</td>\n                        <td id=\"T_2a73de84_70ab_11eb_917a_1e29c010c188row3_col2\" class=\"data row3 col2\" >$13.62</td>\n            </tr>\n            <tr>\n                        <th id=\"T_2a73de84_70ab_11eb_917a_1e29c010c188level0_row4\" class=\"row_heading level0 row4\" >Iskadarya95</th>\n                        <td id=\"T_2a73de84_70ab_11eb_917a_1e29c010c188row4_col0\" class=\"data row4 col0\" >3</td>\n                        <td id=\"T_2a73de84_70ab_11eb_917a_1e29c010c188row4_col1\" class=\"data row4 col1\" >$4.37</td>\n                        <td id=\"T_2a73de84_70ab_11eb_917a_1e29c010c188row4_col2\" class=\"data row4 col2\" >$13.10</td>\n            </tr>\n    </tbody></table>"
     },
     "metadata": {},
     "execution_count": 29
    }
   ],
   "source": [
    "Spender = purchase_data.groupby(\"SN\")\n",
    "AvgPurchSpender = Spender[\"Price\"].mean()\n",
    "PurchTotalSpender = Spender[\"Price\"].sum()\n",
    "PurchCountSpender = Spender[\"Purchase ID\"].count()\n",
    "TopSpender = pd.DataFrame({\"Purchase Count\": PurchCountSpender,\n",
    "                             \"Average Purchase Price\": AvgPurchSpender,\n",
    "                             \"Total Purchase Value\":PurchTotalSpender})\n",
    "SpenderFormat = TopSpender.sort_values([\"Total Purchase Value\"], ascending=False).head()\n",
    "SpenderFormat.style.format({\"Average Purchase Total\":\"${:,.2f}\",\n",
    "                                 \"Average Purchase Price\":\"${:,.2f}\",\n",
    "                                 \"Total Purchase Value\":\"${:,.2f}\"})"
   ]
  },
  {
   "cell_type": "markdown",
   "metadata": {},
   "source": [
    "## Most Popular Items"
   ]
  },
  {
   "cell_type": "markdown",
   "metadata": {},
   "source": [
    "* Retrieve the Item ID, Item Name, and Item Price columns\n",
    "\n",
    "\n",
    "* Group by Item ID and Item Name. Perform calculations to obtain purchase count, average item price, and total purchase value\n",
    "\n",
    "\n",
    "* Create a summary data frame to hold the results\n",
    "\n",
    "\n",
    "* Sort the purchase count column in descending order\n",
    "\n",
    "\n",
    "* Optional: give the displayed data cleaner formatting\n",
    "\n",
    "\n",
    "* Display a preview of the summary data frame\n",
    "\n"
   ]
  },
  {
   "cell_type": "code",
   "execution_count": 30,
   "metadata": {},
   "outputs": [
    {
     "output_type": "execute_result",
     "data": {
      "text/plain": [
       "<pandas.io.formats.style.Styler at 0x7fe9f87d1d90>"
      ],
      "text/html": "<style  type=\"text/css\" >\n</style><table id=\"T_334e4238_70ab_11eb_917a_1e29c010c188\" ><thead>    <tr>        <th class=\"blank\" ></th>        <th class=\"blank level0\" ></th>        <th class=\"col_heading level0 col0\" >Purchase Count</th>        <th class=\"col_heading level0 col1\" >Item Price</th>        <th class=\"col_heading level0 col2\" >Total Purchase Value</th>    </tr>    <tr>        <th class=\"index_name level0\" >Item ID</th>        <th class=\"index_name level1\" >Item Name</th>        <th class=\"blank\" ></th>        <th class=\"blank\" ></th>        <th class=\"blank\" ></th>    </tr></thead><tbody>\n                <tr>\n                        <th id=\"T_334e4238_70ab_11eb_917a_1e29c010c188level0_row0\" class=\"row_heading level0 row0\" >92</th>\n                        <th id=\"T_334e4238_70ab_11eb_917a_1e29c010c188level1_row0\" class=\"row_heading level1 row0\" >Final Critic</th>\n                        <td id=\"T_334e4238_70ab_11eb_917a_1e29c010c188row0_col0\" class=\"data row0 col0\" >13</td>\n                        <td id=\"T_334e4238_70ab_11eb_917a_1e29c010c188row0_col1\" class=\"data row0 col1\" >$4.61</td>\n                        <td id=\"T_334e4238_70ab_11eb_917a_1e29c010c188row0_col2\" class=\"data row0 col2\" >$59.99</td>\n            </tr>\n            <tr>\n                        <th id=\"T_334e4238_70ab_11eb_917a_1e29c010c188level0_row1\" class=\"row_heading level0 row1\" >178</th>\n                        <th id=\"T_334e4238_70ab_11eb_917a_1e29c010c188level1_row1\" class=\"row_heading level1 row1\" >Oathbreaker, Last Hope of the Breaking Storm</th>\n                        <td id=\"T_334e4238_70ab_11eb_917a_1e29c010c188row1_col0\" class=\"data row1 col0\" >12</td>\n                        <td id=\"T_334e4238_70ab_11eb_917a_1e29c010c188row1_col1\" class=\"data row1 col1\" >$4.23</td>\n                        <td id=\"T_334e4238_70ab_11eb_917a_1e29c010c188row1_col2\" class=\"data row1 col2\" >$50.76</td>\n            </tr>\n            <tr>\n                        <th id=\"T_334e4238_70ab_11eb_917a_1e29c010c188level0_row2\" class=\"row_heading level0 row2\" >145</th>\n                        <th id=\"T_334e4238_70ab_11eb_917a_1e29c010c188level1_row2\" class=\"row_heading level1 row2\" >Fiery Glass Crusader</th>\n                        <td id=\"T_334e4238_70ab_11eb_917a_1e29c010c188row2_col0\" class=\"data row2 col0\" >9</td>\n                        <td id=\"T_334e4238_70ab_11eb_917a_1e29c010c188row2_col1\" class=\"data row2 col1\" >$4.58</td>\n                        <td id=\"T_334e4238_70ab_11eb_917a_1e29c010c188row2_col2\" class=\"data row2 col2\" >$41.22</td>\n            </tr>\n            <tr>\n                        <th id=\"T_334e4238_70ab_11eb_917a_1e29c010c188level0_row3\" class=\"row_heading level0 row3\" >132</th>\n                        <th id=\"T_334e4238_70ab_11eb_917a_1e29c010c188level1_row3\" class=\"row_heading level1 row3\" >Persuasion</th>\n                        <td id=\"T_334e4238_70ab_11eb_917a_1e29c010c188row3_col0\" class=\"data row3 col0\" >9</td>\n                        <td id=\"T_334e4238_70ab_11eb_917a_1e29c010c188row3_col1\" class=\"data row3 col1\" >$3.22</td>\n                        <td id=\"T_334e4238_70ab_11eb_917a_1e29c010c188row3_col2\" class=\"data row3 col2\" >$28.99</td>\n            </tr>\n            <tr>\n                        <th id=\"T_334e4238_70ab_11eb_917a_1e29c010c188level0_row4\" class=\"row_heading level0 row4\" >108</th>\n                        <th id=\"T_334e4238_70ab_11eb_917a_1e29c010c188level1_row4\" class=\"row_heading level1 row4\" >Extraction, Quickblade Of Trembling Hands</th>\n                        <td id=\"T_334e4238_70ab_11eb_917a_1e29c010c188row4_col0\" class=\"data row4 col0\" >9</td>\n                        <td id=\"T_334e4238_70ab_11eb_917a_1e29c010c188row4_col1\" class=\"data row4 col1\" >$3.53</td>\n                        <td id=\"T_334e4238_70ab_11eb_917a_1e29c010c188row4_col2\" class=\"data row4 col2\" >$31.77</td>\n            </tr>\n    </tbody></table>"
     },
     "metadata": {},
     "execution_count": 30
    }
   ],
   "source": [
    "# Items = purchase_data[[\"Item ID\", \"Item Name\", \"Price\"]]\n",
    "# ItemStats = Items.groupby([\"Item ID\",\"Item Name\"])\n",
    "# PurchaseItemCount = ItemStats[\"Price\"].count()\n",
    "# PurchaseValue = (ItemStats[\"Price\"].sum())\n",
    "# ItemPrc = PurchaseValue/PurchaseItemCount\n",
    "# MostPopularItem = pd.DataFrame({\"Purchase Count\": PurchaseItemCount,\n",
    "#                                    \"Item Price\": ItemPrc,\n",
    "#                                    \"Total Purchase Value\":PurchaseValue})\n",
    "# PopularFormat = MostPopularItem.sort_values([\"Purchase Count\"], ascending=False).head()\n",
    "# PopularFormat.style.format({\"Item Price\":\"${:,.2f}\",\n",
    "#                                 \"Total Purchase Value\":\"${:,.2f}\"})\n",
    "Items = purchase_data.loc[:,[\"Item ID\", \"Item Name\", \"Price\"]]\n",
    "ItemStats = Items.groupby([\"Item ID\",\"Item Name\"])\n",
    "PurchaseItemCount = ItemStats[\"Price\"].count()\n",
    "PurchaseValue = (ItemStats[\"Price\"].sum())\n",
    "ItemPrc = PurchaseValue/PurchaseItemCount\n",
    "MostPopularItem = pd.DataFrame({\"Purchase Count\": PurchaseItemCount,\n",
    "                                   \"Item Price\": ItemPrc,\n",
    "                                   \"Total Purchase Value\":PurchaseValue})\n",
    "PopularFormat = MostPopularItem.sort_values([\"Purchase Count\"], ascending=False).head()\n",
    "PopularFormat.style.format({\"Item Price\":\"${:,.2f}\",\n",
    "                                \"Total Purchase Value\":\"${:,.2f}\"})"
   ]
  },
  {
   "cell_type": "markdown",
   "metadata": {},
   "source": [
    "## Most Profitable Items"
   ]
  },
  {
   "cell_type": "markdown",
   "metadata": {},
   "source": [
    "* Sort the above table by total purchase value in descending order\n",
    "\n",
    "\n",
    "* Optional: give the displayed data cleaner formatting\n",
    "\n",
    "\n",
    "* Display a preview of the data frame\n",
    "\n"
   ]
  },
  {
   "cell_type": "code",
   "execution_count": 31,
   "metadata": {
    "scrolled": true
   },
   "outputs": [
    {
     "output_type": "execute_result",
     "data": {
      "text/plain": [
       "<pandas.io.formats.style.Styler at 0x7fe9e8382d60>"
      ],
      "text/html": "<style  type=\"text/css\" >\n</style><table id=\"T_36a77d00_70ab_11eb_917a_1e29c010c188\" ><thead>    <tr>        <th class=\"blank\" ></th>        <th class=\"blank level0\" ></th>        <th class=\"col_heading level0 col0\" >Purchase Count</th>        <th class=\"col_heading level0 col1\" >Item Price</th>        <th class=\"col_heading level0 col2\" >Total Purchase Value</th>    </tr>    <tr>        <th class=\"index_name level0\" >Item ID</th>        <th class=\"index_name level1\" >Item Name</th>        <th class=\"blank\" ></th>        <th class=\"blank\" ></th>        <th class=\"blank\" ></th>    </tr></thead><tbody>\n                <tr>\n                        <th id=\"T_36a77d00_70ab_11eb_917a_1e29c010c188level0_row0\" class=\"row_heading level0 row0\" >92</th>\n                        <th id=\"T_36a77d00_70ab_11eb_917a_1e29c010c188level1_row0\" class=\"row_heading level1 row0\" >Final Critic</th>\n                        <td id=\"T_36a77d00_70ab_11eb_917a_1e29c010c188row0_col0\" class=\"data row0 col0\" >13</td>\n                        <td id=\"T_36a77d00_70ab_11eb_917a_1e29c010c188row0_col1\" class=\"data row0 col1\" >$4.61</td>\n                        <td id=\"T_36a77d00_70ab_11eb_917a_1e29c010c188row0_col2\" class=\"data row0 col2\" >$59.99</td>\n            </tr>\n            <tr>\n                        <th id=\"T_36a77d00_70ab_11eb_917a_1e29c010c188level0_row1\" class=\"row_heading level0 row1\" >178</th>\n                        <th id=\"T_36a77d00_70ab_11eb_917a_1e29c010c188level1_row1\" class=\"row_heading level1 row1\" >Oathbreaker, Last Hope of the Breaking Storm</th>\n                        <td id=\"T_36a77d00_70ab_11eb_917a_1e29c010c188row1_col0\" class=\"data row1 col0\" >12</td>\n                        <td id=\"T_36a77d00_70ab_11eb_917a_1e29c010c188row1_col1\" class=\"data row1 col1\" >$4.23</td>\n                        <td id=\"T_36a77d00_70ab_11eb_917a_1e29c010c188row1_col2\" class=\"data row1 col2\" >$50.76</td>\n            </tr>\n            <tr>\n                        <th id=\"T_36a77d00_70ab_11eb_917a_1e29c010c188level0_row2\" class=\"row_heading level0 row2\" >82</th>\n                        <th id=\"T_36a77d00_70ab_11eb_917a_1e29c010c188level1_row2\" class=\"row_heading level1 row2\" >Nirvana</th>\n                        <td id=\"T_36a77d00_70ab_11eb_917a_1e29c010c188row2_col0\" class=\"data row2 col0\" >9</td>\n                        <td id=\"T_36a77d00_70ab_11eb_917a_1e29c010c188row2_col1\" class=\"data row2 col1\" >$4.90</td>\n                        <td id=\"T_36a77d00_70ab_11eb_917a_1e29c010c188row2_col2\" class=\"data row2 col2\" >$44.10</td>\n            </tr>\n            <tr>\n                        <th id=\"T_36a77d00_70ab_11eb_917a_1e29c010c188level0_row3\" class=\"row_heading level0 row3\" >145</th>\n                        <th id=\"T_36a77d00_70ab_11eb_917a_1e29c010c188level1_row3\" class=\"row_heading level1 row3\" >Fiery Glass Crusader</th>\n                        <td id=\"T_36a77d00_70ab_11eb_917a_1e29c010c188row3_col0\" class=\"data row3 col0\" >9</td>\n                        <td id=\"T_36a77d00_70ab_11eb_917a_1e29c010c188row3_col1\" class=\"data row3 col1\" >$4.58</td>\n                        <td id=\"T_36a77d00_70ab_11eb_917a_1e29c010c188row3_col2\" class=\"data row3 col2\" >$41.22</td>\n            </tr>\n            <tr>\n                        <th id=\"T_36a77d00_70ab_11eb_917a_1e29c010c188level0_row4\" class=\"row_heading level0 row4\" >103</th>\n                        <th id=\"T_36a77d00_70ab_11eb_917a_1e29c010c188level1_row4\" class=\"row_heading level1 row4\" >Singed Scalpel</th>\n                        <td id=\"T_36a77d00_70ab_11eb_917a_1e29c010c188row4_col0\" class=\"data row4 col0\" >8</td>\n                        <td id=\"T_36a77d00_70ab_11eb_917a_1e29c010c188row4_col1\" class=\"data row4 col1\" >$4.35</td>\n                        <td id=\"T_36a77d00_70ab_11eb_917a_1e29c010c188row4_col2\" class=\"data row4 col2\" >$34.80</td>\n            </tr>\n    </tbody></table>"
     },
     "metadata": {},
     "execution_count": 31
    }
   ],
   "source": [
    "PopularFormat = MostPopularItem.sort_values([\"Total Purchase Value\"], ascending=False).head()\n",
    "PopularFormat.style.format({\"Item Price\":\"${:,.2f}\",\n",
    "                                \"Total Purchase Value\":\"${:,.2f}\"})"
   ]
  },
  {
   "cell_type": "code",
   "execution_count": null,
   "metadata": {},
   "outputs": [],
   "source": []
  }
 ],
 "metadata": {
  "anaconda-cloud": {},
  "kernel_info": {
   "name": "python3"
  },
  "kernelspec": {
   "display_name": "Python 3",
   "language": "python",
   "name": "python3"
  },
  "language_info": {
   "codemirror_mode": {
    "name": "ipython",
    "version": 3
   },
   "file_extension": ".py",
   "mimetype": "text/x-python",
   "name": "python",
   "nbconvert_exporter": "python",
   "pygments_lexer": "ipython3",
   "version": "3.8.5-final"
  },
  "latex_envs": {
   "LaTeX_envs_menu_present": true,
   "autoclose": false,
   "autocomplete": true,
   "bibliofile": "biblio.bib",
   "cite_by": "apalike",
   "current_citInitial": 1,
   "eqLabelWithNumbers": true,
   "eqNumInitial": 1,
   "hotkeys": {
    "equation": "Ctrl-E",
    "itemize": "Ctrl-I"
   },
   "labels_anchors": false,
   "latex_user_defs": false,
   "report_style_numbering": false,
   "user_envs_cfg": false
  },
  "nteract": {
   "version": "0.2.0"
  }
 },
 "nbformat": 4,
 "nbformat_minor": 2
}